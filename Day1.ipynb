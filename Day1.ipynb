{
 "cells": [
  {
   "cell_type": "markdown",
   "metadata": {},
   "source": [
    "# Learning Python, Numpy and Deep Learning\n",
    "## Chapter 1: my first Jupyter Notebook\n",
    "\n",
    "> Alex Brie, 29/06/2017\n",
    "\n",
    "This is my first Jupyter notebook, a in-progress experiment of learning the ropes of **Python** and how to use it for datascience and deep learning.\n",
    "\n",
    "Ultimate goal: create new deep network architectures using Keras and use them in revolutionary mobile apps that will change the way we perceive reality and man's purpose on earth (_I'm **obviously** joking here, capisce?_)\n",
    "\n",
    "#### But first, baby steps: \n",
    "For the first self-taught lesson I just want to learn how to use Jupyter notebooks, how to open some dataset (csv) and how to apply some basic operations on it (filtering, basic numpy methods)\n",
    "\n",
    "For dataset I didn't want just any dataset but a **government** one. Therefore I'm using a csv that contains the number of vaccines administered to children in the first trimester of 2017, in Romanian cities [data.gov.ro](http://data.gov.ro/dataset/vaccinari2017)\n",
    "\n",
    "#### Conclusion (later edit)\n",
    "The good part: I'm able to use Jupyter, with autocomplete(after installing readline), look at documentation in a separate terminal using pydoc, create new cells, run them, open a csv, convert it into numpy array and then do basic operations on it such as filtering, etc.\n",
    "\n",
    "The bad part: I didn't do anything that you can't do in 10 seconds by simply opening the aforementioned csv in Excel. Plus, my filtering probably sucks. But it's a start."
   ]
  },
  {
   "cell_type": "code",
   "execution_count": 39,
   "metadata": {},
   "outputs": [],
   "source": [
    "import pandas as pd\n",
    "import numpy as np"
   ]
  },
  {
   "cell_type": "code",
   "execution_count": 40,
   "metadata": {},
   "outputs": [],
   "source": [
    "datas = pd.read_csv('copii.csv', sep=';', names=[\"J\",\"L\",\"V\", \"N\", \"A\"])"
   ]
  },
  {
   "cell_type": "code",
   "execution_count": 41,
   "metadata": {},
   "outputs": [
    {
     "name": "stdout",
     "output_type": "stream",
     "text": [
      "      J        L                   V   N     A\n",
      "0  Alba    Abrud  BCG ( Alt produs )  10  2017\n",
      "1  Alba    Abrud            Diftavax  23  2017\n",
      "2  Alba    Abrud           Engerix B   5  2017\n",
      "3  Alba    Abrud               Euvax   4  2017\n",
      "4  Alba    Abrud            Hexacima  25  2017\n",
      "5  Alba    Abrud       Infanrix hexa   3  2017\n",
      "6  Alba    Abrud         M-M-RVAXPRO  26  2017\n",
      "7  Alba    Abrud            Tetraxim  16  2017\n",
      "8  Alba  Acmariu            Diftavax   2  2017\n",
      "9  Alba  Acmariu         M-M-RVAXPRO   1  2017\n"
     ]
    }
   ],
   "source": [
    "print(datas[0:10])\n",
    "# print(datas.columns)\n"
   ]
  },
  {
   "cell_type": "code",
   "execution_count": 42,
   "metadata": {},
   "outputs": [],
   "source": [
    "np_datas = np.array(datas)"
   ]
  },
  {
   "cell_type": "code",
   "execution_count": 43,
   "metadata": {},
   "outputs": [],
   "source": [
    "judete = np_datas[:,0]\n",
    "orase = np_datas[:, 1]\n",
    "vaccinuri = np_datas[:, 2]\n",
    "cantitati = np_datas[:, 3]\n",
    "ani = np_datas[:, 4]"
   ]
  },
  {
   "cell_type": "markdown",
   "metadata": {},
   "source": [
    "Test printing a filter"
   ]
  },
  {
   "cell_type": "code",
   "execution_count": 44,
   "metadata": {},
   "outputs": [
    {
     "name": "stdout",
     "output_type": "stream",
     "text": [
      "['Adunati' 'Adunati' 'Adunati' ..., 'Zamfira' 'Zamfira' 'Zanoaga']\n",
      "['Dolj' 'Dolj' 'Prahova' 'Prahova' 'Prahova' 'Prahova' 'Prahova' 'Prahova'\n",
      " 'Prahova' 'Prahova']\n"
     ]
    }
   ],
   "source": [
    "print(orase[judete==\"Prahova\"])\n",
    "print(judete[orase==\"Busteni\"])"
   ]
  },
  {
   "cell_type": "markdown",
   "metadata": {},
   "source": [
    "Prepare filter columns that allow us to select any county/town combo, or county/town/vaccine name combo"
   ]
  },
  {
   "cell_type": "code",
   "execution_count": 45,
   "metadata": {},
   "outputs": [],
   "source": [
    "jud_or = judete + \"_\"+ orase\n",
    "jud_or_vac = judete + \"_\"+ orase + \"_\"+ vaccinuri"
   ]
  },
  {
   "cell_type": "code",
   "execution_count": 46,
   "metadata": {},
   "outputs": [
    {
     "name": "stdout",
     "output_type": "stream",
     "text": [
      "125\n",
      "1199\n"
     ]
    }
   ],
   "source": [
    "print(np.sum(cantitati[jud_or==\"Prahova_Busteni\"]))\n",
    "print(np.sum(cantitati[jud_or_vac==\"Bucuresti_Sector 2_Hexacima\"]))"
   ]
  },
  {
   "cell_type": "markdown",
   "metadata": {},
   "source": [
    "Demo for extracting the quantities and vaccines names for a given county_city combo"
   ]
  },
  {
   "cell_type": "code",
   "execution_count": 47,
   "metadata": {
    "collapsed": true
   },
   "outputs": [],
   "source": [
    "na = np.array([vaccinuri[jud_or==\"Prahova_Busteni\"], cantitati[jud_or==\"Prahova_Busteni\"]]).T"
   ]
  },
  {
   "cell_type": "code",
   "execution_count": 48,
   "metadata": {},
   "outputs": [
    {
     "name": "stdout",
     "output_type": "stream",
     "text": [
      "[['BCG ( Alt produs )' 18]\n",
      " ['Diftavax' 2]\n",
      " ['Euvax' 10]\n",
      " ['Hexacima' 33]\n",
      " ['M-M-RVAXPRO' 39]\n",
      " ['Priorix' 1]\n",
      " ['Tetraxim' 21]\n",
      " ['VVR' 1]]\n"
     ]
    }
   ],
   "source": [
    "print(na)"
   ]
  },
  {
   "cell_type": "code",
   "execution_count": 49,
   "metadata": {},
   "outputs": [
    {
     "name": "stdout",
     "output_type": "stream",
     "text": [
      "125\n"
     ]
    }
   ],
   "source": [
    "print (np.sum(na[:,-1]))"
   ]
  },
  {
   "cell_type": "markdown",
   "metadata": {},
   "source": [
    "Identify the most common/popular/abundant vaccine"
   ]
  },
  {
   "cell_type": "code",
   "execution_count": 50,
   "metadata": {},
   "outputs": [
    {
     "name": "stdout",
     "output_type": "stream",
     "text": [
      "M-M-RVAXPRO\n"
     ]
    }
   ],
   "source": [
    "max_vac = np.max(na[:,-1])\n",
    "vaccine_name = na[na[:,-1]==max_vac][0][0]\n",
    "print(vaccine_name)"
   ]
  },
  {
   "cell_type": "markdown",
   "metadata": {},
   "source": [
    "Now for the least common/popular/abundant vaccine"
   ]
  },
  {
   "cell_type": "code",
   "execution_count": 51,
   "metadata": {},
   "outputs": [
    {
     "name": "stdout",
     "output_type": "stream",
     "text": [
      "Priorix\n"
     ]
    }
   ],
   "source": [
    "min_vac = np.min(na[:,-1])\n",
    "vaccine_name = na[na[:,-1]==min_vac][0][0]\n",
    "print(vaccine_name)"
   ]
  },
  {
   "cell_type": "code",
   "execution_count": null,
   "metadata": {
    "collapsed": true
   },
   "outputs": [],
   "source": []
  }
 ],
 "metadata": {
  "kernelspec": {
   "display_name": "Python 3",
   "language": "python",
   "name": "python3"
  },
  "language_info": {
   "codemirror_mode": {
    "name": "ipython",
    "version": 3
   },
   "file_extension": ".py",
   "mimetype": "text/x-python",
   "name": "python",
   "nbconvert_exporter": "python",
   "pygments_lexer": "ipython3",
   "version": "3.6.1"
  }
 },
 "nbformat": 4,
 "nbformat_minor": 2
}
